{
 "cells": [
  {
   "cell_type": "markdown",
   "metadata": {},
   "source": [
    "# Homework 1: Exploring & Visualizing Data"
   ]
  },
  {
   "cell_type": "markdown",
   "metadata": {},
   "source": [
    "Make you have seaborn and missingno installed. Run `pip3 install seaborn` and `pip3 install missingno` in your container/shell if you don't."
   ]
  },
  {
   "cell_type": "markdown",
   "metadata": {},
   "source": [
    "## Setup"
   ]
  },
  {
   "cell_type": "markdown",
   "metadata": {},
   "source": [
    "In this homework, we will more rigorously explore data visualization and data manipulation with a couple datasets. Please fill in the cells with `## YOUR CODE HERE` following the appropriate directions."
   ]
  },
  {
   "cell_type": "code",
   "execution_count": 1,
   "metadata": {
    "collapsed": true
   },
   "outputs": [],
   "source": [
    "# removes the need to call plt.show() every time\n",
    "%matplotlib inline"
   ]
  },
  {
   "cell_type": "markdown",
   "metadata": {},
   "source": [
    "Seaborn is a powerful data visualization library built on top of matplotlib. We will be using seaborn for this homework (since it is a better tool and you should know it well). Plus seaborn comes default with *much* better aesthetics (invoked with the `set()` function call)."
   ]
  },
  {
   "cell_type": "code",
   "execution_count": 2,
   "metadata": {
    "collapsed": true
   },
   "outputs": [],
   "source": [
    "import missingno as msno\n",
    "import seaborn as sns\n",
    "sns.set()"
   ]
  },
  {
   "cell_type": "markdown",
   "metadata": {},
   "source": [
    "Import `numpy` and `pandas` (remember to abbreviate them accordingly!)"
   ]
  },
  {
   "cell_type": "code",
   "execution_count": 3,
   "metadata": {
    "collapsed": true
   },
   "outputs": [],
   "source": [
    "import pandas as pd\n",
    "import numpy as np\n",
    "import datetime as dt"
   ]
  },
  {
   "cell_type": "markdown",
   "metadata": {},
   "source": [
    "## Getting to know a new dataset"
   ]
  },
  {
   "cell_type": "markdown",
   "metadata": {},
   "source": [
    "First we load the `titanic` dataset directly from seaborn. The `load_dataset` function will return a pandas dataframe."
   ]
  },
  {
   "cell_type": "code",
   "execution_count": 4,
   "metadata": {
    "collapsed": true
   },
   "outputs": [],
   "source": [
    "titanic = sns.load_dataset('titanic')"
   ]
  },
  {
   "cell_type": "markdown",
   "metadata": {},
   "source": [
    "Use a couple pandas functions to get a quick overview and some statistics on the dataset (remember the commands we used from lecture). Take a quick glance at the overview you create."
   ]
  },
  {
   "cell_type": "markdown",
   "metadata": {
    "collapsed": true
   },
   "source": [
    "titanic.head()"
   ]
  },
  {
   "cell_type": "code",
   "execution_count": 5,
   "metadata": {},
   "outputs": [
    {
     "data": {
      "text/html": [
       "<div>\n",
       "<style>\n",
       "    .dataframe thead tr:only-child th {\n",
       "        text-align: right;\n",
       "    }\n",
       "\n",
       "    .dataframe thead th {\n",
       "        text-align: left;\n",
       "    }\n",
       "\n",
       "    .dataframe tbody tr th {\n",
       "        vertical-align: top;\n",
       "    }\n",
       "</style>\n",
       "<table border=\"1\" class=\"dataframe\">\n",
       "  <thead>\n",
       "    <tr style=\"text-align: right;\">\n",
       "      <th></th>\n",
       "      <th>survived</th>\n",
       "      <th>pclass</th>\n",
       "      <th>age</th>\n",
       "      <th>sibsp</th>\n",
       "      <th>parch</th>\n",
       "      <th>fare</th>\n",
       "    </tr>\n",
       "  </thead>\n",
       "  <tbody>\n",
       "    <tr>\n",
       "      <th>count</th>\n",
       "      <td>891.000000</td>\n",
       "      <td>891.000000</td>\n",
       "      <td>714.000000</td>\n",
       "      <td>891.000000</td>\n",
       "      <td>891.000000</td>\n",
       "      <td>891.000000</td>\n",
       "    </tr>\n",
       "    <tr>\n",
       "      <th>mean</th>\n",
       "      <td>0.383838</td>\n",
       "      <td>2.308642</td>\n",
       "      <td>29.699118</td>\n",
       "      <td>0.523008</td>\n",
       "      <td>0.381594</td>\n",
       "      <td>32.204208</td>\n",
       "    </tr>\n",
       "    <tr>\n",
       "      <th>std</th>\n",
       "      <td>0.486592</td>\n",
       "      <td>0.836071</td>\n",
       "      <td>14.526497</td>\n",
       "      <td>1.102743</td>\n",
       "      <td>0.806057</td>\n",
       "      <td>49.693429</td>\n",
       "    </tr>\n",
       "    <tr>\n",
       "      <th>min</th>\n",
       "      <td>0.000000</td>\n",
       "      <td>1.000000</td>\n",
       "      <td>0.420000</td>\n",
       "      <td>0.000000</td>\n",
       "      <td>0.000000</td>\n",
       "      <td>0.000000</td>\n",
       "    </tr>\n",
       "    <tr>\n",
       "      <th>25%</th>\n",
       "      <td>0.000000</td>\n",
       "      <td>2.000000</td>\n",
       "      <td>20.125000</td>\n",
       "      <td>0.000000</td>\n",
       "      <td>0.000000</td>\n",
       "      <td>7.910400</td>\n",
       "    </tr>\n",
       "    <tr>\n",
       "      <th>50%</th>\n",
       "      <td>0.000000</td>\n",
       "      <td>3.000000</td>\n",
       "      <td>28.000000</td>\n",
       "      <td>0.000000</td>\n",
       "      <td>0.000000</td>\n",
       "      <td>14.454200</td>\n",
       "    </tr>\n",
       "    <tr>\n",
       "      <th>75%</th>\n",
       "      <td>1.000000</td>\n",
       "      <td>3.000000</td>\n",
       "      <td>38.000000</td>\n",
       "      <td>1.000000</td>\n",
       "      <td>0.000000</td>\n",
       "      <td>31.000000</td>\n",
       "    </tr>\n",
       "    <tr>\n",
       "      <th>max</th>\n",
       "      <td>1.000000</td>\n",
       "      <td>3.000000</td>\n",
       "      <td>80.000000</td>\n",
       "      <td>8.000000</td>\n",
       "      <td>6.000000</td>\n",
       "      <td>512.329200</td>\n",
       "    </tr>\n",
       "  </tbody>\n",
       "</table>\n",
       "</div>"
      ],
      "text/plain": [
       "         survived      pclass         age       sibsp       parch        fare\n",
       "count  891.000000  891.000000  714.000000  891.000000  891.000000  891.000000\n",
       "mean     0.383838    2.308642   29.699118    0.523008    0.381594   32.204208\n",
       "std      0.486592    0.836071   14.526497    1.102743    0.806057   49.693429\n",
       "min      0.000000    1.000000    0.420000    0.000000    0.000000    0.000000\n",
       "25%      0.000000    2.000000   20.125000    0.000000    0.000000    7.910400\n",
       "50%      0.000000    3.000000   28.000000    0.000000    0.000000   14.454200\n",
       "75%      1.000000    3.000000   38.000000    1.000000    0.000000   31.000000\n",
       "max      1.000000    3.000000   80.000000    8.000000    6.000000  512.329200"
      ]
     },
     "execution_count": 5,
     "metadata": {},
     "output_type": "execute_result"
    }
   ],
   "source": [
    "titanic.describe()"
   ]
  },
  {
   "cell_type": "markdown",
   "metadata": {},
   "source": [
    "With your created overview, you should be able to answer these questions:"
   ]
  },
  {
   "cell_type": "markdown",
   "metadata": {},
   "source": [
    "* What was the age of the oldest person on board? 80\n",
    "* What was the survival rate of people on board? 0.383838\n",
    "* What was the average fare of people on board? 32.204208"
   ]
  },
  {
   "cell_type": "markdown",
   "metadata": {},
   "source": [
    "Pro tip: What about if we wanted to know not just the overall survival rate, but the survival rate broken down by sex and embark_town?"
   ]
  },
  {
   "cell_type": "code",
   "execution_count": 6,
   "metadata": {},
   "outputs": [
    {
     "data": {
      "text/plain": [
       "sex     embark_town\n",
       "female  Cherbourg      0.876712\n",
       "        Queenstown     0.750000\n",
       "        Southampton    0.689655\n",
       "male    Cherbourg      0.305263\n",
       "        Queenstown     0.073171\n",
       "        Southampton    0.174603\n",
       "Name: survived, dtype: float64"
      ]
     },
     "execution_count": 6,
     "metadata": {},
     "output_type": "execute_result"
    }
   ],
   "source": [
    "titanic.groupby(['sex','embark_town'])['survived'].mean()"
   ]
  },
  {
   "cell_type": "markdown",
   "metadata": {},
   "source": [
    "Now we have an overview of our dataset. The next thing we should do is clean it - check for missing values and deal with them appropriately."
   ]
  },
  {
   "cell_type": "markdown",
   "metadata": {},
   "source": [
    "`missingno` allows us to really easily see where missing values are in our dataset. It's a simple command:"
   ]
  },
  {
   "cell_type": "code",
   "execution_count": 11,
   "metadata": {},
   "outputs": [
    {
     "data": {
      "image/png": "[encoded data removed]",
      "text/plain": [
       "<matplotlib.figure.Figure at 0x12239af28>"
      ]
     },
     "metadata": {},
     "output_type": "display_data"
    }
   ],
   "source": [
    "msno.matrix(titanic)"
   ]
  },
  {
   "cell_type": "markdown",
   "metadata": {},
   "source": [
    "The white lines show us the missing data. One quick observation is that `deck` has a lot of missing data. Let's just go ahead and drop that column from the dataset since it's not relevant."
   ]
  },
  {
   "cell_type": "code",
   "execution_count": 8,
   "metadata": {},
   "outputs": [],
   "source": [
    "titanic.drop('deck', axis=1, inplace=True)"
   ]
  },
  {
   "cell_type": "markdown",
   "metadata": {},
   "source": [
    "Now let's rerun the matrix and see. All that white is gone! Nice."
   ]
  },
  {
   "cell_type": "markdown",
   "metadata": {},
   "source": [
    "We still have a bunch of missing values for the age field. We can't just drop the age column since it is a pretty important datapoint. One way to deal with this is simply to just remove the records with `dropna()`, but this would end up removing out a significant amount of our data. "
   ]
  },
  {
   "cell_type": "markdown",
   "metadata": {},
   "source": [
    "What do we do now? We can now explore a technique called **missing value imputation**. What this means is basically we find a reasonable way to *replace* the unknown data with workable values. "
   ]
  },
  {
   "cell_type": "markdown",
   "metadata": {},
   "source": [
    "There's a lot of theory regarding how to do this properly, ([for the curious look here](http://www.stat.columbia.edu/~gelman/arm/missing.pdf)). We can simply put in the average age value for the missing ages. But this really isn't so great as it would skew our stats towards the mean without taking into account various trends within the data."
   ]
  },
  {
   "cell_type": "markdown",
   "metadata": {},
   "source": [
    "If we assume that the data is missing *at random* (which actually is rarely the case), we can fit a model to predict the missing value based on the other factors in the dataset. One popular way to do this is a linear regression (coming forth in lecture #3!) [`regplot`](https://seaborn.pydata.org/generated/seaborn.regplot.html) is a seaborn function to easily plot a linear regression."
   ]
  },
  {
   "cell_type": "markdown",
   "metadata": {},
   "source": [
    "Considering all these factors, assumptions and trade-offs, you must now make you own decision on how to deal with the missing data. You may choose any of the methods discussed above, or choose to not do anything at all (in which case you would only drop missing values when plotting). After writing your code below, verify the result by rerunning the matrix."
   ]
  },
  {
   "cell_type": "code",
   "execution_count": 10,
   "metadata": {
    "collapsed": true
   },
   "outputs": [],
   "source": [
    "titanic.age.fillna(titanic.age.mean(), inplace=True)"
   ]
  },
  {
   "cell_type": "markdown",
   "metadata": {},
   "source": [
    "## Intro to Seaborn"
   ]
  },
  {
   "cell_type": "markdown",
   "metadata": {},
   "source": [
    "There are 2 types of data in any dataset: categorial and numerical data. We will first explore categorical data."
   ]
  },
  {
   "cell_type": "markdown",
   "metadata": {},
   "source": [
    "One really easy way to show categorical data is through bar plots. Let's explore how to make some in seaborn.\n",
    "We want to investigate the difference in rates at which males vs females survived the accident. Using the [documentation here](https://seaborn.pydata.org/generated/seaborn.barplot.html) and [example here](http://seaborn.pydata.org/examples/color_palettes.html), create a `barplot` to depict this. It should be a really simple one-liner."
   ]
  },
  {
   "cell_type": "code",
   "execution_count": 12,
   "metadata": {
    "scrolled": true
   },
   "outputs": [
    {
     "data": {
      "text/plain": [
       "<matplotlib.axes._subplots.AxesSubplot at 0x12286eb38>"
      ]
     },
     "execution_count": 12,
     "metadata": {},
     "output_type": "execute_result"
    },
    {
     "data": {
      "image/png": "[encoded data removed]",
      "text/plain": [
       "<matplotlib.figure.Figure at 0x1120ede48>"
      ]
     },
     "metadata": {},
     "output_type": "display_data"
    }
   ],
   "source": [
    "sns.set_style(\"whitegrid\")\n",
    "sns.barplot(x=\"sex\", y=\"survived\", data=titanic)"
   ]
  },
  {
   "cell_type": "markdown",
   "metadata": {},
   "source": [
    "Notice how it was so easy to create the plot! You simply passed in the entire dataset, and just specified the `x` and `y` fields that you wanted exposed for the barplot. Behind the scenes seaborn ignored `NaN` values for you and automatically calculated the survival rate to plot. Also, that black tick is a 95% confidence interval that seaborn plots."
   ]
  },
  {
   "cell_type": "markdown",
   "metadata": {},
   "source": [
    "So we see that females were much more likely to make it out alive. What other factors do you think could have an impact on surival rate? Plot a couple more barplots below. Make sure to use *categorical* values like `sex` used above, not something numerical like age or fare."
   ]
  },
  {
   "cell_type": "code",
   "execution_count": 13,
   "metadata": {},
   "outputs": [
    {
     "data": {
      "text/plain": [
       "<matplotlib.axes._subplots.AxesSubplot at 0x1223a2cf8>"
      ]
     },
     "execution_count": 13,
     "metadata": {},
     "output_type": "execute_result"
    },
    {
     "data": {
      "image/png": "[encoded data removed]",
      "text/plain": [
       "<matplotlib.figure.Figure at 0x122912e48>"
      ]
     },
     "metadata": {},
     "output_type": "display_data"
    }
   ],
   "source": [
    "sns.barplot(x=\"alone\", y=\"survived\", hue=\"sex\", data=titanic)"
   ]
  },
  {
   "cell_type": "code",
   "execution_count": 14,
   "metadata": {},
   "outputs": [
    {
     "data": {
      "text/plain": [
       "<matplotlib.axes._subplots.AxesSubplot at 0x122e88898>"
      ]
     },
     "execution_count": 14,
     "metadata": {},
     "output_type": "execute_result"
    },
    {
     "data": {
      "image/png": "[encoded data removed]",
      "text/plain": [
       "<matplotlib.figure.Figure at 0x12293b438>"
      ]
     },
     "metadata": {},
     "output_type": "display_data"
    }
   ],
   "source": [
    "sns.barplot(x=\"class\", y=\"survived\", hue=\"sex\", data=titanic)"
   ]
  },
  {
   "cell_type": "markdown",
   "metadata": {},
   "source": [
    "What if we wanted to add a further sex breakdown for the categories chosen above? Go back and add a `hue` parameter for `sex` for the couple plots you just created, and seaborn will split each bar into a male/female comparison."
   ]
  },
  {
   "cell_type": "markdown",
   "metadata": {},
   "source": [
    "Now we want to compare the embarking town vs the age of the individuals. We don't simply want to use a barplot, since that will just give the average age; rather, we would like more insight into the relative and numeric *distribution* of ages."
   ]
  },
  {
   "cell_type": "markdown",
   "metadata": {},
   "source": [
    "A good tool to help us here is [`swarmplot`](https://seaborn.pydata.org/generated/seaborn.swarmplot.html). Use this function to view `embark_town` vs `age`, again using `sex` as the `hue`."
   ]
  },
  {
   "cell_type": "code",
   "execution_count": 15,
   "metadata": {},
   "outputs": [
    {
     "data": {
      "text/plain": [
       "<matplotlib.axes._subplots.AxesSubplot at 0x122ddfba8>"
      ]
     },
     "execution_count": 15,
     "metadata": {},
     "output_type": "execute_result"
    },
    {
     "data": {
      "image/png": "[encoded data removed]",
      "text/plain": [
       "<matplotlib.figure.Figure at 0x122fadf60>"
      ]
     },
     "metadata": {},
     "output_type": "display_data"
    }
   ],
   "source": [
    "sns.swarmplot(x=\"embark_town\", y=\"age\", hue=\"sex\", data=titanic)"
   ]
  },
  {
   "cell_type": "markdown",
   "metadata": {},
   "source": [
    "Cool! This gives us much more information. What if we didn't care about the number of individuals in each category at all, but rather just wanted to see the *distribution* in each category? [`violinplot`](https://seaborn.pydata.org/generated/seaborn.violinplot.html) plots a density distribution. Plot that."
   ]
  },
  {
   "cell_type": "code",
   "execution_count": 16,
   "metadata": {},
   "outputs": [
    {
     "data": {
      "text/plain": [
       "<matplotlib.axes._subplots.AxesSubplot at 0x12316cc18>"
      ]
     },
     "execution_count": 16,
     "metadata": {},
     "output_type": "execute_result"
    },
    {
     "data": {
      "image/png": "[encoded data removed]",
      "text/plain": [
       "<matplotlib.figure.Figure at 0x122e90c88>"
      ]
     },
     "metadata": {},
     "output_type": "display_data"
    }
   ],
   "source": [
    "sns.violinplot(x=\"embark_town\", y=\"age\", hue=\"sex\", data=titanic, split=True)"
   ]
  },
  {
   "cell_type": "markdown",
   "metadata": {},
   "source": [
    "Go back and clean up the violinplot by adding `split='True'` parameter. "
   ]
  },
  {
   "cell_type": "markdown",
   "metadata": {},
   "source": [
    "Now take a few seconds to look at the graphs you've created of this data. What are some observations? Jot a couple down here."
   ]
  },
  {
   "cell_type": "markdown",
   "metadata": {},
   "source": [
    "* Many more people embarked from Southampton than from Queenstown\n",
    "* In general, men embarking from Southampton, Cherbourg, and Queenstown were in their 20s."
   ]
  },
  {
   "cell_type": "markdown",
   "metadata": {},
   "source": [
    "As I mentioned, data is categorical or numeric. We already started getting into numerical data with the swarmplot and violinplot. We will now explore a couple more examples."
   ]
  },
  {
   "cell_type": "markdown",
   "metadata": {},
   "source": [
    "Let's look at the distribution of ages. Use [`displot`](https://seaborn.pydata.org/generated/seaborn.distplot.html) to make a histogram of just the ages."
   ]
  },
  {
   "cell_type": "code",
   "execution_count": 17,
   "metadata": {},
   "outputs": [
    {
     "data": {
      "text/plain": [
       "<matplotlib.axes._subplots.AxesSubplot at 0x11ecbb860>"
      ]
     },
     "execution_count": 17,
     "metadata": {},
     "output_type": "execute_result"
    },
    {
     "data": {
      "image/png": "[encoded data removed]",
      "text/plain": [
       "<matplotlib.figure.Figure at 0x11ebd35c0>"
      ]
     },
     "metadata": {},
     "output_type": "display_data"
    }
   ],
   "source": [
    "sns.distplot(titanic.age)"
   ]
  },
  {
   "cell_type": "markdown",
   "metadata": {},
   "source": [
    "A histogram can nicely represent numerical data by breaking up numerical ranges into chunks so that it is easier to visualize. As you might notice, seaborn also automatically plots a gaussian kernel density estimate."
   ]
  },
  {
   "cell_type": "markdown",
   "metadata": {},
   "source": [
    "Do the same thing for fares - do you notice something odd about that histogram? What does that skew mean?\n",
    "\n",
    "* There is a right skew of the data. It means most people paid lower \"economy\" fare, but a few wealthy folks paid for higher fares"
   ]
  },
  {
   "cell_type": "code",
   "execution_count": 18,
   "metadata": {},
   "outputs": [
    {
     "data": {
      "text/plain": [
       "0        7.2500\n",
       "1       71.2833\n",
       "2        7.9250\n",
       "3       53.1000\n",
       "4        8.0500\n",
       "5        8.4583\n",
       "6       51.8625\n",
       "7       21.0750\n",
       "8       11.1333\n",
       "9       30.0708\n",
       "10      16.7000\n",
       "11      26.5500\n",
       "12       8.0500\n",
       "13      31.2750\n",
       "14       7.8542\n",
       "15      16.0000\n",
       "16      29.1250\n",
       "17      13.0000\n",
       "18      18.0000\n",
       "19       7.2250\n",
       "20      26.0000\n",
       "21      13.0000\n",
       "22       8.0292\n",
       "23      35.5000\n",
       "24      21.0750\n",
       "25      31.3875\n",
       "26       7.2250\n",
       "27     263.0000\n",
       "28       7.8792\n",
       "29       7.8958\n",
       "         ...   \n",
       "861     11.5000\n",
       "862     25.9292\n",
       "863     69.5500\n",
       "864     13.0000\n",
       "865     13.0000\n",
       "866     13.8583\n",
       "867     50.4958\n",
       "868      9.5000\n",
       "869     11.1333\n",
       "870      7.8958\n",
       "871     52.5542\n",
       "872      5.0000\n",
       "873      9.0000\n",
       "874     24.0000\n",
       "875      7.2250\n",
       "876      9.8458\n",
       "877      7.8958\n",
       "878      7.8958\n",
       "879     83.1583\n",
       "880     26.0000\n",
       "881      7.8958\n",
       "882     10.5167\n",
       "883     10.5000\n",
       "884      7.0500\n",
       "885     29.1250\n",
       "886     13.0000\n",
       "887     30.0000\n",
       "888     23.4500\n",
       "889     30.0000\n",
       "890      7.7500\n",
       "Name: fare, Length: 891, dtype: float64"
      ]
     },
     "execution_count": 18,
     "metadata": {},
     "output_type": "execute_result"
    }
   ],
   "source": [
    "titanic.fare"
   ]
  },
  {
   "cell_type": "code",
   "execution_count": 19,
   "metadata": {},
   "outputs": [
    {
     "data": {
      "text/plain": [
       "<matplotlib.axes._subplots.AxesSubplot at 0x11ec84d30>"
      ]
     },
     "execution_count": 19,
     "metadata": {},
     "output_type": "execute_result"
    },
    {
     "data": {
      "image/png": "[encoded data removed]",
      "text/plain": [
       "<matplotlib.figure.Figure at 0x11133a828>"
      ]
     },
     "metadata": {},
     "output_type": "display_data"
    }
   ],
   "source": [
    "sns.distplot(titanic.fare)"
   ]
  },
  {
   "cell_type": "markdown",
   "metadata": {},
   "source": [
    "Now, using the [`jointplot`](https://seaborn.pydata.org/generated/seaborn.jointplot.html#seaborn.jointplot) function, make a scatterplot of the `age` and `fare` variables to see if there is any relationship between the two."
   ]
  },
  {
   "cell_type": "code",
   "execution_count": 20,
   "metadata": {},
   "outputs": [
    {
     "data": {
      "text/plain": [
       "<seaborn.axisgrid.JointGrid at 0x11ebd3470>"
      ]
     },
     "execution_count": 20,
     "metadata": {},
     "output_type": "execute_result"
    },
    {
     "data": {
      "image/png": "[encoded data removed]",
      "text/plain": [
       "<matplotlib.figure.Figure at 0x11f1fdcc0>"
      ]
     },
     "metadata": {},
     "output_type": "display_data"
    }
   ],
   "source": [
    "sns.jointplot(x=\"age\", y=\"fare\", data=titanic)"
   ]
  },
  {
   "cell_type": "markdown",
   "metadata": {},
   "source": [
    "Scatterplots allow one to easily see trends/coorelations in data. As you can see here, there seems to be very little correlation. Also observe that seaborn automatically plots histograms."
   ]
  },
  {
   "cell_type": "markdown",
   "metadata": {},
   "source": [
    "## Diving into a familiar dataset"
   ]
  },
  {
   "cell_type": "markdown",
   "metadata": {},
   "source": [
    "Now you hopefully have a pretty good understanding of both seaborn and matplotlib. You will now apply your learned skills to a familiar dataset, the 2016 election contributions. Navigate [here](http://classic.fec.gov/disclosurep/PDownload.do) and download ALL.zip. "
   ]
  },
  {
   "cell_type": "markdown",
   "metadata": {},
   "source": [
    "There will be no hand-holding in this section. You know how to import a dataset, pull out and clean the values you need, and then plot it. You will follow this whole pipeline yourself. "
   ]
  },
  {
   "cell_type": "markdown",
   "metadata": {},
   "source": [
    "Please plot 2 graphs:\n",
    "* the first graph should show the *cumulative* contributions for the candidate of your choide\n",
    "* the second graph should be a histogram of the contributions (not cumulative), with a bin for each month"
   ]
  },
  {
   "cell_type": "markdown",
   "metadata": {},
   "source": [
    "You may use whatever outside libraries you wish. The [`tsplot`](http://seaborn.pydata.org/generated/seaborn.tsplot.html) and [`distplot`](http://seaborn.pydata.org/generated/seaborn.distplot.html) from seaborn might be useful. The [`hist`](https://matplotlib.org/devdocs/api/_as_gen/matplotlib.pyplot.hist.html) from matplotlib and [`cumsum`](https://docs.scipy.org/doc/numpy/reference/generated/numpy.cumsum.html) from numpy may also be useful."
   ]
  },
  {
   "cell_type": "code",
   "execution_count": 21,
   "metadata": {},
   "outputs": [
    {
     "name": "stderr",
     "output_type": "stream",
     "text": [
      "/Users/justinmi/anaconda3/envs/dsd/lib/python3.6/site-packages/IPython/core/interactiveshell.py:2698: DtypeWarning: Columns (6,11,12,13) have mixed types. Specify dtype option on import or set low_memory=False.\n",
      "  interactivity=interactivity, compiler=compiler, result=result)\n"
     ]
    }
   ],
   "source": [
    "data = pd.read_csv('2016-donations.csv', index_col=False)"
   ]
  },
  {
   "cell_type": "code",
   "execution_count": 22,
   "metadata": {},
   "outputs": [
    {
     "data": {
      "text/html": [
       "<div>\n",
       "<style>\n",
       "    .dataframe thead tr:only-child th {\n",
       "        text-align: right;\n",
       "    }\n",
       "\n",
       "    .dataframe thead th {\n",
       "        text-align: left;\n",
       "    }\n",
       "\n",
       "    .dataframe tbody tr th {\n",
       "        vertical-align: top;\n",
       "    }\n",
       "</style>\n",
       "<table border=\"1\" class=\"dataframe\">\n",
       "  <thead>\n",
       "    <tr style=\"text-align: right;\">\n",
       "      <th></th>\n",
       "      <th>cmte_id</th>\n",
       "      <th>cand_id</th>\n",
       "      <th>cand_nm</th>\n",
       "      <th>contbr_nm</th>\n",
       "      <th>contbr_city</th>\n",
       "      <th>contbr_st</th>\n",
       "      <th>contbr_zip</th>\n",
       "      <th>contbr_employer</th>\n",
       "      <th>contbr_occupation</th>\n",
       "      <th>contb_receipt_amt</th>\n",
       "      <th>contb_receipt_dt</th>\n",
       "      <th>receipt_desc</th>\n",
       "      <th>memo_cd</th>\n",
       "      <th>memo_text</th>\n",
       "      <th>form_tp</th>\n",
       "      <th>file_num</th>\n",
       "      <th>tran_id</th>\n",
       "      <th>election_tp</th>\n",
       "    </tr>\n",
       "  </thead>\n",
       "  <tbody>\n",
       "    <tr>\n",
       "      <th>0</th>\n",
       "      <td>C00458844</td>\n",
       "      <td>P60006723</td>\n",
       "      <td>Rubio, Marco</td>\n",
       "      <td>BLUM, MAUREEN</td>\n",
       "      <td>WASHINGTON</td>\n",
       "      <td>20</td>\n",
       "      <td>DC</td>\n",
       "      <td>STRATEGIC COALITIONS &amp; INITIATIVES LL</td>\n",
       "      <td>OUTREACH DIRECTOR</td>\n",
       "      <td>175.0</td>\n",
       "      <td>15-MAR-16</td>\n",
       "      <td>NaN</td>\n",
       "      <td>NaN</td>\n",
       "      <td>NaN</td>\n",
       "      <td>SA17A</td>\n",
       "      <td>1082559</td>\n",
       "      <td>SA17.1152124</td>\n",
       "      <td>P2016</td>\n",
       "    </tr>\n",
       "    <tr>\n",
       "      <th>1</th>\n",
       "      <td>C00458844</td>\n",
       "      <td>P60006723</td>\n",
       "      <td>Rubio, Marco</td>\n",
       "      <td>DODSON, MARK B. MR.</td>\n",
       "      <td>ATLANTA</td>\n",
       "      <td>30</td>\n",
       "      <td>GA</td>\n",
       "      <td>MORTGAGE CAPITAL ADVISORS</td>\n",
       "      <td>PRIVATE MORTGAGE BANKING</td>\n",
       "      <td>25.0</td>\n",
       "      <td>16-MAR-16</td>\n",
       "      <td>NaN</td>\n",
       "      <td>NaN</td>\n",
       "      <td>DEBT RETIREMENT</td>\n",
       "      <td>SA17A</td>\n",
       "      <td>1082559</td>\n",
       "      <td>SA17.1153048</td>\n",
       "      <td>P2016</td>\n",
       "    </tr>\n",
       "    <tr>\n",
       "      <th>2</th>\n",
       "      <td>C00458844</td>\n",
       "      <td>P60006723</td>\n",
       "      <td>Rubio, Marco</td>\n",
       "      <td>CHILDERS, WILLIAM</td>\n",
       "      <td>DPO</td>\n",
       "      <td>AE</td>\n",
       "      <td>098309998</td>\n",
       "      <td>DIPLOMAT</td>\n",
       "      <td>US GOVERNMENT</td>\n",
       "      <td>100.0</td>\n",
       "      <td>20-FEB-16</td>\n",
       "      <td>NaN</td>\n",
       "      <td>NaN</td>\n",
       "      <td>NaN</td>\n",
       "      <td>SA17A</td>\n",
       "      <td>1056862</td>\n",
       "      <td>SA17.1020839</td>\n",
       "      <td>P2016</td>\n",
       "    </tr>\n",
       "    <tr>\n",
       "      <th>3</th>\n",
       "      <td>C00458844</td>\n",
       "      <td>P60006723</td>\n",
       "      <td>Rubio, Marco</td>\n",
       "      <td>RUCINSKI, ROBERT</td>\n",
       "      <td>APO</td>\n",
       "      <td>AE</td>\n",
       "      <td>090960009</td>\n",
       "      <td>US ARMY</td>\n",
       "      <td>PHYSICIAN</td>\n",
       "      <td>200.0</td>\n",
       "      <td>10-MAR-16</td>\n",
       "      <td>NaN</td>\n",
       "      <td>NaN</td>\n",
       "      <td>NaN</td>\n",
       "      <td>SA17A</td>\n",
       "      <td>1082559</td>\n",
       "      <td>SA17.1078677</td>\n",
       "      <td>P2016</td>\n",
       "    </tr>\n",
       "    <tr>\n",
       "      <th>4</th>\n",
       "      <td>C00458844</td>\n",
       "      <td>P60006723</td>\n",
       "      <td>Rubio, Marco</td>\n",
       "      <td>RUCINSKI, ROBERT</td>\n",
       "      <td>APO</td>\n",
       "      <td>AE</td>\n",
       "      <td>090960009</td>\n",
       "      <td>US ARMY</td>\n",
       "      <td>PHYSICIAN</td>\n",
       "      <td>100.0</td>\n",
       "      <td>08-MAR-16</td>\n",
       "      <td>NaN</td>\n",
       "      <td>NaN</td>\n",
       "      <td>NaN</td>\n",
       "      <td>SA17A</td>\n",
       "      <td>1082559</td>\n",
       "      <td>SA17.1074981</td>\n",
       "      <td>P2016</td>\n",
       "    </tr>\n",
       "  </tbody>\n",
       "</table>\n",
       "</div>"
      ],
      "text/plain": [
       "     cmte_id    cand_id       cand_nm            contbr_nm contbr_city  \\\n",
       "0  C00458844  P60006723  Rubio, Marco        BLUM, MAUREEN  WASHINGTON   \n",
       "1  C00458844  P60006723  Rubio, Marco  DODSON, MARK B. MR.     ATLANTA   \n",
       "2  C00458844  P60006723  Rubio, Marco    CHILDERS, WILLIAM         DPO   \n",
       "3  C00458844  P60006723  Rubio, Marco     RUCINSKI, ROBERT         APO   \n",
       "4  C00458844  P60006723  Rubio, Marco     RUCINSKI, ROBERT         APO   \n",
       "\n",
       "  contbr_st contbr_zip                        contbr_employer  \\\n",
       "0        20         DC  STRATEGIC COALITIONS & INITIATIVES LL   \n",
       "1        30         GA              MORTGAGE CAPITAL ADVISORS   \n",
       "2        AE  098309998                               DIPLOMAT   \n",
       "3        AE  090960009                                US ARMY   \n",
       "4        AE  090960009                                US ARMY   \n",
       "\n",
       "          contbr_occupation  contb_receipt_amt contb_receipt_dt receipt_desc  \\\n",
       "0         OUTREACH DIRECTOR              175.0        15-MAR-16          NaN   \n",
       "1  PRIVATE MORTGAGE BANKING               25.0        16-MAR-16          NaN   \n",
       "2             US GOVERNMENT              100.0        20-FEB-16          NaN   \n",
       "3                 PHYSICIAN              200.0        10-MAR-16          NaN   \n",
       "4                 PHYSICIAN              100.0        08-MAR-16          NaN   \n",
       "\n",
       "  memo_cd        memo_text form_tp  file_num       tran_id election_tp  \n",
       "0     NaN              NaN   SA17A   1082559  SA17.1152124       P2016  \n",
       "1     NaN  DEBT RETIREMENT   SA17A   1082559  SA17.1153048       P2016  \n",
       "2     NaN              NaN   SA17A   1056862  SA17.1020839       P2016  \n",
       "3     NaN              NaN   SA17A   1082559  SA17.1078677       P2016  \n",
       "4     NaN              NaN   SA17A   1082559  SA17.1074981       P2016  "
      ]
     },
     "execution_count": 22,
     "metadata": {},
     "output_type": "execute_result"
    }
   ],
   "source": [
    "data.head()"
   ]
  },
  {
   "cell_type": "code",
   "execution_count": 23,
   "metadata": {
    "collapsed": true
   },
   "outputs": [],
   "source": [
    "def get_date(dates):\n",
    "    new_dates = []\n",
    "    for date in dates:\n",
    "        new_dates.append(dt.datetime.strptime(date, '%d-%b-%y'))\n",
    "    return np.array(new_dates)"
   ]
  },
  {
   "cell_type": "code",
   "execution_count": 24,
   "metadata": {
    "collapsed": true
   },
   "outputs": [],
   "source": [
    "hillary_data = data[data.cand_nm == 'Clinton, Hillary Rodham']\n",
    "sorted_by_date = hillary_data.sort_values(\"contb_receipt_dt\", ascending=True)"
   ]
  },
  {
   "cell_type": "code",
   "execution_count": 25,
   "metadata": {},
   "outputs": [
    {
     "data": {
      "text/html": [
       "<div>\n",
       "<style>\n",
       "    .dataframe thead tr:only-child th {\n",
       "        text-align: right;\n",
       "    }\n",
       "\n",
       "    .dataframe thead th {\n",
       "        text-align: left;\n",
       "    }\n",
       "\n",
       "    .dataframe tbody tr th {\n",
       "        vertical-align: top;\n",
       "    }\n",
       "</style>\n",
       "<table border=\"1\" class=\"dataframe\">\n",
       "  <thead>\n",
       "    <tr style=\"text-align: right;\">\n",
       "      <th></th>\n",
       "      <th>cum_contr</th>\n",
       "      <th>date</th>\n",
       "    </tr>\n",
       "  </thead>\n",
       "  <tbody>\n",
       "    <tr>\n",
       "      <th>3629052</th>\n",
       "      <td>5.0</td>\n",
       "      <td>2016-04-01</td>\n",
       "    </tr>\n",
       "    <tr>\n",
       "      <th>3118834</th>\n",
       "      <td>30.0</td>\n",
       "      <td>2016-04-01</td>\n",
       "    </tr>\n",
       "    <tr>\n",
       "      <th>1697624</th>\n",
       "      <td>55.0</td>\n",
       "      <td>2016-04-01</td>\n",
       "    </tr>\n",
       "    <tr>\n",
       "      <th>1697618</th>\n",
       "      <td>60.0</td>\n",
       "      <td>2016-04-01</td>\n",
       "    </tr>\n",
       "    <tr>\n",
       "      <th>2126538</th>\n",
       "      <td>85.0</td>\n",
       "      <td>2016-04-01</td>\n",
       "    </tr>\n",
       "  </tbody>\n",
       "</table>\n",
       "</div>"
      ],
      "text/plain": [
       "         cum_contr       date\n",
       "3629052        5.0 2016-04-01\n",
       "3118834       30.0 2016-04-01\n",
       "1697624       55.0 2016-04-01\n",
       "1697618       60.0 2016-04-01\n",
       "2126538       85.0 2016-04-01"
      ]
     },
     "execution_count": 25,
     "metadata": {},
     "output_type": "execute_result"
    }
   ],
   "source": [
    "cum_cont = pd.DataFrame(data={\"cum_contr\":np.cumsum(sorted_by_date.contb_receipt_amt),\"date\":get_date(sorted_by_date.contb_receipt_dt)})\n",
    "cum_cont.head()"
   ]
  },
  {
   "cell_type": "code",
   "execution_count": 26,
   "metadata": {},
   "outputs": [
    {
     "data": {
      "text/html": [
       "<div>\n",
       "<style>\n",
       "    .dataframe thead tr:only-child th {\n",
       "        text-align: right;\n",
       "    }\n",
       "\n",
       "    .dataframe thead th {\n",
       "        text-align: left;\n",
       "    }\n",
       "\n",
       "    .dataframe tbody tr th {\n",
       "        vertical-align: top;\n",
       "    }\n",
       "</style>\n",
       "<table border=\"1\" class=\"dataframe\">\n",
       "  <thead>\n",
       "    <tr style=\"text-align: right;\">\n",
       "      <th></th>\n",
       "      <th>contb_receipt_dt</th>\n",
       "      <th>contb_receipt_amt</th>\n",
       "      <th>file_num</th>\n",
       "    </tr>\n",
       "  </thead>\n",
       "  <tbody>\n",
       "    <tr>\n",
       "      <th>119</th>\n",
       "      <td>2015-04-07</td>\n",
       "      <td>18900.00</td>\n",
       "      <td>7168364</td>\n",
       "    </tr>\n",
       "    <tr>\n",
       "      <th>180</th>\n",
       "      <td>2015-04-10</td>\n",
       "      <td>2700.00</td>\n",
       "      <td>1024052</td>\n",
       "    </tr>\n",
       "    <tr>\n",
       "      <th>201</th>\n",
       "      <td>2015-04-11</td>\n",
       "      <td>6.00</td>\n",
       "      <td>2048104</td>\n",
       "    </tr>\n",
       "    <tr>\n",
       "      <th>221</th>\n",
       "      <td>2015-04-12</td>\n",
       "      <td>1415749.21</td>\n",
       "      <td>2681992188</td>\n",
       "    </tr>\n",
       "    <tr>\n",
       "      <th>242</th>\n",
       "      <td>2015-04-13</td>\n",
       "      <td>1040668.58</td>\n",
       "      <td>1343613218</td>\n",
       "    </tr>\n",
       "    <tr>\n",
       "      <th>262</th>\n",
       "      <td>2015-04-14</td>\n",
       "      <td>870548.58</td>\n",
       "      <td>744485804</td>\n",
       "    </tr>\n",
       "    <tr>\n",
       "      <th>283</th>\n",
       "      <td>2015-04-15</td>\n",
       "      <td>593761.32</td>\n",
       "      <td>479313330</td>\n",
       "    </tr>\n",
       "    <tr>\n",
       "      <th>304</th>\n",
       "      <td>2015-04-16</td>\n",
       "      <td>559080.85</td>\n",
       "      <td>426005632</td>\n",
       "    </tr>\n",
       "    <tr>\n",
       "      <th>325</th>\n",
       "      <td>2015-04-17</td>\n",
       "      <td>525572.93</td>\n",
       "      <td>429077788</td>\n",
       "    </tr>\n",
       "    <tr>\n",
       "      <th>346</th>\n",
       "      <td>2015-04-18</td>\n",
       "      <td>269657.66</td>\n",
       "      <td>197642036</td>\n",
       "    </tr>\n",
       "    <tr>\n",
       "      <th>366</th>\n",
       "      <td>2015-04-19</td>\n",
       "      <td>220995.64</td>\n",
       "      <td>217099024</td>\n",
       "    </tr>\n",
       "    <tr>\n",
       "      <th>387</th>\n",
       "      <td>2015-04-20</td>\n",
       "      <td>577046.17</td>\n",
       "      <td>438294256</td>\n",
       "    </tr>\n",
       "    <tr>\n",
       "      <th>407</th>\n",
       "      <td>2015-04-21</td>\n",
       "      <td>555593.80</td>\n",
       "      <td>429077788</td>\n",
       "    </tr>\n",
       "    <tr>\n",
       "      <th>428</th>\n",
       "      <td>2015-04-22</td>\n",
       "      <td>601202.26</td>\n",
       "      <td>421909424</td>\n",
       "    </tr>\n",
       "    <tr>\n",
       "      <th>449</th>\n",
       "      <td>2015-04-23</td>\n",
       "      <td>603954.91</td>\n",
       "      <td>557084288</td>\n",
       "    </tr>\n",
       "    <tr>\n",
       "      <th>470</th>\n",
       "      <td>2015-04-24</td>\n",
       "      <td>813894.25</td>\n",
       "      <td>599070420</td>\n",
       "    </tr>\n",
       "    <tr>\n",
       "      <th>491</th>\n",
       "      <td>2015-04-25</td>\n",
       "      <td>362152.17</td>\n",
       "      <td>261133260</td>\n",
       "    </tr>\n",
       "    <tr>\n",
       "      <th>511</th>\n",
       "      <td>2015-04-26</td>\n",
       "      <td>359896.00</td>\n",
       "      <td>281614300</td>\n",
       "    </tr>\n",
       "    <tr>\n",
       "      <th>532</th>\n",
       "      <td>2015-04-27</td>\n",
       "      <td>1092114.99</td>\n",
       "      <td>730377052</td>\n",
       "    </tr>\n",
       "    <tr>\n",
       "      <th>552</th>\n",
       "      <td>2015-04-28</td>\n",
       "      <td>832054.41</td>\n",
       "      <td>470039868</td>\n",
       "    </tr>\n",
       "    <tr>\n",
       "      <th>573</th>\n",
       "      <td>2015-04-29</td>\n",
       "      <td>777976.56</td>\n",
       "      <td>519194364</td>\n",
       "    </tr>\n",
       "    <tr>\n",
       "      <th>594</th>\n",
       "      <td>2015-04-30</td>\n",
       "      <td>852594.66</td>\n",
       "      <td>623704662</td>\n",
       "    </tr>\n",
       "    <tr>\n",
       "      <th>12</th>\n",
       "      <td>2015-05-01</td>\n",
       "      <td>729874.16</td>\n",
       "      <td>628995904</td>\n",
       "    </tr>\n",
       "    <tr>\n",
       "      <th>32</th>\n",
       "      <td>2015-05-02</td>\n",
       "      <td>183611.00</td>\n",
       "      <td>133126760</td>\n",
       "    </tr>\n",
       "    <tr>\n",
       "      <th>52</th>\n",
       "      <td>2015-05-03</td>\n",
       "      <td>209421.48</td>\n",
       "      <td>273421884</td>\n",
       "    </tr>\n",
       "    <tr>\n",
       "      <th>71</th>\n",
       "      <td>2015-05-04</td>\n",
       "      <td>466640.12</td>\n",
       "      <td>344138466</td>\n",
       "    </tr>\n",
       "    <tr>\n",
       "      <th>91</th>\n",
       "      <td>2015-05-05</td>\n",
       "      <td>744091.94</td>\n",
       "      <td>542747560</td>\n",
       "    </tr>\n",
       "    <tr>\n",
       "      <th>111</th>\n",
       "      <td>2015-05-06</td>\n",
       "      <td>660524.39</td>\n",
       "      <td>507929792</td>\n",
       "    </tr>\n",
       "    <tr>\n",
       "      <th>132</th>\n",
       "      <td>2015-05-07</td>\n",
       "      <td>539535.41</td>\n",
       "      <td>379980286</td>\n",
       "    </tr>\n",
       "    <tr>\n",
       "      <th>152</th>\n",
       "      <td>2015-05-08</td>\n",
       "      <td>541593.16</td>\n",
       "      <td>403533482</td>\n",
       "    </tr>\n",
       "    <tr>\n",
       "      <th>...</th>\n",
       "      <td>...</td>\n",
       "      <td>...</td>\n",
       "      <td>...</td>\n",
       "    </tr>\n",
       "    <tr>\n",
       "      <th>568</th>\n",
       "      <td>2016-11-28</td>\n",
       "      <td>-21280.02</td>\n",
       "      <td>198420600</td>\n",
       "    </tr>\n",
       "    <tr>\n",
       "      <th>589</th>\n",
       "      <td>2016-11-29</td>\n",
       "      <td>-20636.00</td>\n",
       "      <td>240719850</td>\n",
       "    </tr>\n",
       "    <tr>\n",
       "      <th>609</th>\n",
       "      <td>2016-11-30</td>\n",
       "      <td>-5115.00</td>\n",
       "      <td>85971375</td>\n",
       "    </tr>\n",
       "    <tr>\n",
       "      <th>4</th>\n",
       "      <td>2016-12-01</td>\n",
       "      <td>-8348.00</td>\n",
       "      <td>75654810</td>\n",
       "    </tr>\n",
       "    <tr>\n",
       "      <th>24</th>\n",
       "      <td>2016-12-02</td>\n",
       "      <td>-9068.84</td>\n",
       "      <td>87117660</td>\n",
       "    </tr>\n",
       "    <tr>\n",
       "      <th>44</th>\n",
       "      <td>2016-12-03</td>\n",
       "      <td>-7520.00</td>\n",
       "      <td>58460535</td>\n",
       "    </tr>\n",
       "    <tr>\n",
       "      <th>83</th>\n",
       "      <td>2016-12-05</td>\n",
       "      <td>-194.53</td>\n",
       "      <td>10316565</td>\n",
       "    </tr>\n",
       "    <tr>\n",
       "      <th>103</th>\n",
       "      <td>2016-12-06</td>\n",
       "      <td>-2134.96</td>\n",
       "      <td>14901705</td>\n",
       "    </tr>\n",
       "    <tr>\n",
       "      <th>124</th>\n",
       "      <td>2016-12-07</td>\n",
       "      <td>-8166.00</td>\n",
       "      <td>51582825</td>\n",
       "    </tr>\n",
       "    <tr>\n",
       "      <th>144</th>\n",
       "      <td>2016-12-08</td>\n",
       "      <td>-678.00</td>\n",
       "      <td>18340560</td>\n",
       "    </tr>\n",
       "    <tr>\n",
       "      <th>164</th>\n",
       "      <td>2016-12-09</td>\n",
       "      <td>-6956.00</td>\n",
       "      <td>73362240</td>\n",
       "    </tr>\n",
       "    <tr>\n",
       "      <th>185</th>\n",
       "      <td>2016-12-10</td>\n",
       "      <td>-3698.00</td>\n",
       "      <td>42412545</td>\n",
       "    </tr>\n",
       "    <tr>\n",
       "      <th>226</th>\n",
       "      <td>2016-12-12</td>\n",
       "      <td>-850.00</td>\n",
       "      <td>4585140</td>\n",
       "    </tr>\n",
       "    <tr>\n",
       "      <th>247</th>\n",
       "      <td>2016-12-13</td>\n",
       "      <td>-167.00</td>\n",
       "      <td>18340560</td>\n",
       "    </tr>\n",
       "    <tr>\n",
       "      <th>267</th>\n",
       "      <td>2016-12-14</td>\n",
       "      <td>-9448.00</td>\n",
       "      <td>146724480</td>\n",
       "    </tr>\n",
       "    <tr>\n",
       "      <th>288</th>\n",
       "      <td>2016-12-15</td>\n",
       "      <td>-802.00</td>\n",
       "      <td>22925700</td>\n",
       "    </tr>\n",
       "    <tr>\n",
       "      <th>309</th>\n",
       "      <td>2016-12-16</td>\n",
       "      <td>-22530.68</td>\n",
       "      <td>105458220</td>\n",
       "    </tr>\n",
       "    <tr>\n",
       "      <th>330</th>\n",
       "      <td>2016-12-17</td>\n",
       "      <td>-2510.00</td>\n",
       "      <td>13755420</td>\n",
       "    </tr>\n",
       "    <tr>\n",
       "      <th>371</th>\n",
       "      <td>2016-12-19</td>\n",
       "      <td>-956.91</td>\n",
       "      <td>14901705</td>\n",
       "    </tr>\n",
       "    <tr>\n",
       "      <th>392</th>\n",
       "      <td>2016-12-20</td>\n",
       "      <td>-1705.00</td>\n",
       "      <td>16047990</td>\n",
       "    </tr>\n",
       "    <tr>\n",
       "      <th>412</th>\n",
       "      <td>2016-12-21</td>\n",
       "      <td>-4229.00</td>\n",
       "      <td>67630815</td>\n",
       "    </tr>\n",
       "    <tr>\n",
       "      <th>433</th>\n",
       "      <td>2016-12-22</td>\n",
       "      <td>-465.00</td>\n",
       "      <td>5731425</td>\n",
       "    </tr>\n",
       "    <tr>\n",
       "      <th>454</th>\n",
       "      <td>2016-12-23</td>\n",
       "      <td>-905.00</td>\n",
       "      <td>21779415</td>\n",
       "    </tr>\n",
       "    <tr>\n",
       "      <th>475</th>\n",
       "      <td>2016-12-24</td>\n",
       "      <td>-562.00</td>\n",
       "      <td>8023995</td>\n",
       "    </tr>\n",
       "    <tr>\n",
       "      <th>516</th>\n",
       "      <td>2016-12-26</td>\n",
       "      <td>-55.00</td>\n",
       "      <td>2292570</td>\n",
       "    </tr>\n",
       "    <tr>\n",
       "      <th>537</th>\n",
       "      <td>2016-12-27</td>\n",
       "      <td>-2812.00</td>\n",
       "      <td>8023995</td>\n",
       "    </tr>\n",
       "    <tr>\n",
       "      <th>557</th>\n",
       "      <td>2016-12-28</td>\n",
       "      <td>-1950.00</td>\n",
       "      <td>19486845</td>\n",
       "    </tr>\n",
       "    <tr>\n",
       "      <th>578</th>\n",
       "      <td>2016-12-29</td>\n",
       "      <td>-1061.00</td>\n",
       "      <td>12609135</td>\n",
       "    </tr>\n",
       "    <tr>\n",
       "      <th>599</th>\n",
       "      <td>2016-12-30</td>\n",
       "      <td>-858.00</td>\n",
       "      <td>11462850</td>\n",
       "    </tr>\n",
       "    <tr>\n",
       "      <th>617</th>\n",
       "      <td>2016-12-31</td>\n",
       "      <td>-1100.00</td>\n",
       "      <td>3438855</td>\n",
       "    </tr>\n",
       "  </tbody>\n",
       "</table>\n",
       "<p>626 rows × 3 columns</p>\n",
       "</div>"
      ],
      "text/plain": [
       "    contb_receipt_dt  contb_receipt_amt    file_num\n",
       "119       2015-04-07           18900.00     7168364\n",
       "180       2015-04-10            2700.00     1024052\n",
       "201       2015-04-11               6.00     2048104\n",
       "221       2015-04-12         1415749.21  2681992188\n",
       "242       2015-04-13         1040668.58  1343613218\n",
       "262       2015-04-14          870548.58   744485804\n",
       "283       2015-04-15          593761.32   479313330\n",
       "304       2015-04-16          559080.85   426005632\n",
       "325       2015-04-17          525572.93   429077788\n",
       "346       2015-04-18          269657.66   197642036\n",
       "366       2015-04-19          220995.64   217099024\n",
       "387       2015-04-20          577046.17   438294256\n",
       "407       2015-04-21          555593.80   429077788\n",
       "428       2015-04-22          601202.26   421909424\n",
       "449       2015-04-23          603954.91   557084288\n",
       "470       2015-04-24          813894.25   599070420\n",
       "491       2015-04-25          362152.17   261133260\n",
       "511       2015-04-26          359896.00   281614300\n",
       "532       2015-04-27         1092114.99   730377052\n",
       "552       2015-04-28          832054.41   470039868\n",
       "573       2015-04-29          777976.56   519194364\n",
       "594       2015-04-30          852594.66   623704662\n",
       "12        2015-05-01          729874.16   628995904\n",
       "32        2015-05-02          183611.00   133126760\n",
       "52        2015-05-03          209421.48   273421884\n",
       "71        2015-05-04          466640.12   344138466\n",
       "91        2015-05-05          744091.94   542747560\n",
       "111       2015-05-06          660524.39   507929792\n",
       "132       2015-05-07          539535.41   379980286\n",
       "152       2015-05-08          541593.16   403533482\n",
       "..               ...                ...         ...\n",
       "568       2016-11-28          -21280.02   198420600\n",
       "589       2016-11-29          -20636.00   240719850\n",
       "609       2016-11-30           -5115.00    85971375\n",
       "4         2016-12-01           -8348.00    75654810\n",
       "24        2016-12-02           -9068.84    87117660\n",
       "44        2016-12-03           -7520.00    58460535\n",
       "83        2016-12-05            -194.53    10316565\n",
       "103       2016-12-06           -2134.96    14901705\n",
       "124       2016-12-07           -8166.00    51582825\n",
       "144       2016-12-08            -678.00    18340560\n",
       "164       2016-12-09           -6956.00    73362240\n",
       "185       2016-12-10           -3698.00    42412545\n",
       "226       2016-12-12            -850.00     4585140\n",
       "247       2016-12-13            -167.00    18340560\n",
       "267       2016-12-14           -9448.00   146724480\n",
       "288       2016-12-15            -802.00    22925700\n",
       "309       2016-12-16          -22530.68   105458220\n",
       "330       2016-12-17           -2510.00    13755420\n",
       "371       2016-12-19            -956.91    14901705\n",
       "392       2016-12-20           -1705.00    16047990\n",
       "412       2016-12-21           -4229.00    67630815\n",
       "433       2016-12-22            -465.00     5731425\n",
       "454       2016-12-23            -905.00    21779415\n",
       "475       2016-12-24            -562.00     8023995\n",
       "516       2016-12-26             -55.00     2292570\n",
       "537       2016-12-27           -2812.00     8023995\n",
       "557       2016-12-28           -1950.00    19486845\n",
       "578       2016-12-29           -1061.00    12609135\n",
       "599       2016-12-30            -858.00    11462850\n",
       "617       2016-12-31           -1100.00     3438855\n",
       "\n",
       "[626 rows x 3 columns]"
      ]
     },
     "execution_count": 26,
     "metadata": {},
     "output_type": "execute_result"
    }
   ],
   "source": [
    "contributions_by_day = sorted_by_date.groupby(['contb_receipt_dt']).sum().reset_index()\n",
    "contributions_by_day.contb_receipt_dt = pd.to_datetime(contributions_by_day.contb_receipt_dt)\n",
    "contributions_by_day.sort_values('contb_receipt_dt', inplace=True, ascending=True)\n",
    "contributions_by_day"
   ]
  },
  {
   "cell_type": "code",
   "execution_count": 27,
   "metadata": {},
   "outputs": [
    {
     "data": {
      "text/html": [
       "<div>\n",
       "<style>\n",
       "    .dataframe thead tr:only-child th {\n",
       "        text-align: right;\n",
       "    }\n",
       "\n",
       "    .dataframe thead th {\n",
       "        text-align: left;\n",
       "    }\n",
       "\n",
       "    .dataframe tbody tr th {\n",
       "        vertical-align: top;\n",
       "    }\n",
       "</style>\n",
       "<table border=\"1\" class=\"dataframe\">\n",
       "  <thead>\n",
       "    <tr style=\"text-align: right;\">\n",
       "      <th></th>\n",
       "      <th>contb_receipt_dt</th>\n",
       "      <th>contb_receipt_amt</th>\n",
       "      <th>file_num</th>\n",
       "    </tr>\n",
       "  </thead>\n",
       "  <tbody>\n",
       "    <tr>\n",
       "      <th>119</th>\n",
       "      <td>2015-04-07</td>\n",
       "      <td>18900.00</td>\n",
       "      <td>7168364</td>\n",
       "    </tr>\n",
       "    <tr>\n",
       "      <th>180</th>\n",
       "      <td>2015-04-10</td>\n",
       "      <td>2700.00</td>\n",
       "      <td>1024052</td>\n",
       "    </tr>\n",
       "    <tr>\n",
       "      <th>201</th>\n",
       "      <td>2015-04-11</td>\n",
       "      <td>6.00</td>\n",
       "      <td>2048104</td>\n",
       "    </tr>\n",
       "    <tr>\n",
       "      <th>221</th>\n",
       "      <td>2015-04-12</td>\n",
       "      <td>1415749.21</td>\n",
       "      <td>2681992188</td>\n",
       "    </tr>\n",
       "    <tr>\n",
       "      <th>242</th>\n",
       "      <td>2015-04-13</td>\n",
       "      <td>1040668.58</td>\n",
       "      <td>1343613218</td>\n",
       "    </tr>\n",
       "    <tr>\n",
       "      <th>262</th>\n",
       "      <td>2015-04-14</td>\n",
       "      <td>870548.58</td>\n",
       "      <td>744485804</td>\n",
       "    </tr>\n",
       "    <tr>\n",
       "      <th>283</th>\n",
       "      <td>2015-04-15</td>\n",
       "      <td>593761.32</td>\n",
       "      <td>479313330</td>\n",
       "    </tr>\n",
       "    <tr>\n",
       "      <th>304</th>\n",
       "      <td>2015-04-16</td>\n",
       "      <td>559080.85</td>\n",
       "      <td>426005632</td>\n",
       "    </tr>\n",
       "    <tr>\n",
       "      <th>325</th>\n",
       "      <td>2015-04-17</td>\n",
       "      <td>525572.93</td>\n",
       "      <td>429077788</td>\n",
       "    </tr>\n",
       "    <tr>\n",
       "      <th>346</th>\n",
       "      <td>2015-04-18</td>\n",
       "      <td>269657.66</td>\n",
       "      <td>197642036</td>\n",
       "    </tr>\n",
       "    <tr>\n",
       "      <th>366</th>\n",
       "      <td>2015-04-19</td>\n",
       "      <td>220995.64</td>\n",
       "      <td>217099024</td>\n",
       "    </tr>\n",
       "    <tr>\n",
       "      <th>387</th>\n",
       "      <td>2015-04-20</td>\n",
       "      <td>577046.17</td>\n",
       "      <td>438294256</td>\n",
       "    </tr>\n",
       "    <tr>\n",
       "      <th>407</th>\n",
       "      <td>2015-04-21</td>\n",
       "      <td>555593.80</td>\n",
       "      <td>429077788</td>\n",
       "    </tr>\n",
       "    <tr>\n",
       "      <th>428</th>\n",
       "      <td>2015-04-22</td>\n",
       "      <td>601202.26</td>\n",
       "      <td>421909424</td>\n",
       "    </tr>\n",
       "    <tr>\n",
       "      <th>449</th>\n",
       "      <td>2015-04-23</td>\n",
       "      <td>603954.91</td>\n",
       "      <td>557084288</td>\n",
       "    </tr>\n",
       "    <tr>\n",
       "      <th>470</th>\n",
       "      <td>2015-04-24</td>\n",
       "      <td>813894.25</td>\n",
       "      <td>599070420</td>\n",
       "    </tr>\n",
       "    <tr>\n",
       "      <th>491</th>\n",
       "      <td>2015-04-25</td>\n",
       "      <td>362152.17</td>\n",
       "      <td>261133260</td>\n",
       "    </tr>\n",
       "    <tr>\n",
       "      <th>511</th>\n",
       "      <td>2015-04-26</td>\n",
       "      <td>359896.00</td>\n",
       "      <td>281614300</td>\n",
       "    </tr>\n",
       "    <tr>\n",
       "      <th>532</th>\n",
       "      <td>2015-04-27</td>\n",
       "      <td>1092114.99</td>\n",
       "      <td>730377052</td>\n",
       "    </tr>\n",
       "    <tr>\n",
       "      <th>552</th>\n",
       "      <td>2015-04-28</td>\n",
       "      <td>832054.41</td>\n",
       "      <td>470039868</td>\n",
       "    </tr>\n",
       "    <tr>\n",
       "      <th>573</th>\n",
       "      <td>2015-04-29</td>\n",
       "      <td>777976.56</td>\n",
       "      <td>519194364</td>\n",
       "    </tr>\n",
       "    <tr>\n",
       "      <th>594</th>\n",
       "      <td>2015-04-30</td>\n",
       "      <td>852594.66</td>\n",
       "      <td>623704662</td>\n",
       "    </tr>\n",
       "    <tr>\n",
       "      <th>12</th>\n",
       "      <td>2015-05-01</td>\n",
       "      <td>729874.16</td>\n",
       "      <td>628995904</td>\n",
       "    </tr>\n",
       "    <tr>\n",
       "      <th>32</th>\n",
       "      <td>2015-05-02</td>\n",
       "      <td>183611.00</td>\n",
       "      <td>133126760</td>\n",
       "    </tr>\n",
       "    <tr>\n",
       "      <th>52</th>\n",
       "      <td>2015-05-03</td>\n",
       "      <td>209421.48</td>\n",
       "      <td>273421884</td>\n",
       "    </tr>\n",
       "    <tr>\n",
       "      <th>71</th>\n",
       "      <td>2015-05-04</td>\n",
       "      <td>466640.12</td>\n",
       "      <td>344138466</td>\n",
       "    </tr>\n",
       "    <tr>\n",
       "      <th>91</th>\n",
       "      <td>2015-05-05</td>\n",
       "      <td>744091.94</td>\n",
       "      <td>542747560</td>\n",
       "    </tr>\n",
       "    <tr>\n",
       "      <th>111</th>\n",
       "      <td>2015-05-06</td>\n",
       "      <td>660524.39</td>\n",
       "      <td>507929792</td>\n",
       "    </tr>\n",
       "    <tr>\n",
       "      <th>132</th>\n",
       "      <td>2015-05-07</td>\n",
       "      <td>539535.41</td>\n",
       "      <td>379980286</td>\n",
       "    </tr>\n",
       "    <tr>\n",
       "      <th>152</th>\n",
       "      <td>2015-05-08</td>\n",
       "      <td>541593.16</td>\n",
       "      <td>403533482</td>\n",
       "    </tr>\n",
       "    <tr>\n",
       "      <th>...</th>\n",
       "      <td>...</td>\n",
       "      <td>...</td>\n",
       "      <td>...</td>\n",
       "    </tr>\n",
       "    <tr>\n",
       "      <th>568</th>\n",
       "      <td>2016-11-28</td>\n",
       "      <td>-21280.02</td>\n",
       "      <td>198420600</td>\n",
       "    </tr>\n",
       "    <tr>\n",
       "      <th>589</th>\n",
       "      <td>2016-11-29</td>\n",
       "      <td>-20636.00</td>\n",
       "      <td>240719850</td>\n",
       "    </tr>\n",
       "    <tr>\n",
       "      <th>609</th>\n",
       "      <td>2016-11-30</td>\n",
       "      <td>-5115.00</td>\n",
       "      <td>85971375</td>\n",
       "    </tr>\n",
       "    <tr>\n",
       "      <th>4</th>\n",
       "      <td>2016-12-01</td>\n",
       "      <td>-8348.00</td>\n",
       "      <td>75654810</td>\n",
       "    </tr>\n",
       "    <tr>\n",
       "      <th>24</th>\n",
       "      <td>2016-12-02</td>\n",
       "      <td>-9068.84</td>\n",
       "      <td>87117660</td>\n",
       "    </tr>\n",
       "    <tr>\n",
       "      <th>44</th>\n",
       "      <td>2016-12-03</td>\n",
       "      <td>-7520.00</td>\n",
       "      <td>58460535</td>\n",
       "    </tr>\n",
       "    <tr>\n",
       "      <th>83</th>\n",
       "      <td>2016-12-05</td>\n",
       "      <td>-194.53</td>\n",
       "      <td>10316565</td>\n",
       "    </tr>\n",
       "    <tr>\n",
       "      <th>103</th>\n",
       "      <td>2016-12-06</td>\n",
       "      <td>-2134.96</td>\n",
       "      <td>14901705</td>\n",
       "    </tr>\n",
       "    <tr>\n",
       "      <th>124</th>\n",
       "      <td>2016-12-07</td>\n",
       "      <td>-8166.00</td>\n",
       "      <td>51582825</td>\n",
       "    </tr>\n",
       "    <tr>\n",
       "      <th>144</th>\n",
       "      <td>2016-12-08</td>\n",
       "      <td>-678.00</td>\n",
       "      <td>18340560</td>\n",
       "    </tr>\n",
       "    <tr>\n",
       "      <th>164</th>\n",
       "      <td>2016-12-09</td>\n",
       "      <td>-6956.00</td>\n",
       "      <td>73362240</td>\n",
       "    </tr>\n",
       "    <tr>\n",
       "      <th>185</th>\n",
       "      <td>2016-12-10</td>\n",
       "      <td>-3698.00</td>\n",
       "      <td>42412545</td>\n",
       "    </tr>\n",
       "    <tr>\n",
       "      <th>226</th>\n",
       "      <td>2016-12-12</td>\n",
       "      <td>-850.00</td>\n",
       "      <td>4585140</td>\n",
       "    </tr>\n",
       "    <tr>\n",
       "      <th>247</th>\n",
       "      <td>2016-12-13</td>\n",
       "      <td>-167.00</td>\n",
       "      <td>18340560</td>\n",
       "    </tr>\n",
       "    <tr>\n",
       "      <th>267</th>\n",
       "      <td>2016-12-14</td>\n",
       "      <td>-9448.00</td>\n",
       "      <td>146724480</td>\n",
       "    </tr>\n",
       "    <tr>\n",
       "      <th>288</th>\n",
       "      <td>2016-12-15</td>\n",
       "      <td>-802.00</td>\n",
       "      <td>22925700</td>\n",
       "    </tr>\n",
       "    <tr>\n",
       "      <th>309</th>\n",
       "      <td>2016-12-16</td>\n",
       "      <td>-22530.68</td>\n",
       "      <td>105458220</td>\n",
       "    </tr>\n",
       "    <tr>\n",
       "      <th>330</th>\n",
       "      <td>2016-12-17</td>\n",
       "      <td>-2510.00</td>\n",
       "      <td>13755420</td>\n",
       "    </tr>\n",
       "    <tr>\n",
       "      <th>371</th>\n",
       "      <td>2016-12-19</td>\n",
       "      <td>-956.91</td>\n",
       "      <td>14901705</td>\n",
       "    </tr>\n",
       "    <tr>\n",
       "      <th>392</th>\n",
       "      <td>2016-12-20</td>\n",
       "      <td>-1705.00</td>\n",
       "      <td>16047990</td>\n",
       "    </tr>\n",
       "    <tr>\n",
       "      <th>412</th>\n",
       "      <td>2016-12-21</td>\n",
       "      <td>-4229.00</td>\n",
       "      <td>67630815</td>\n",
       "    </tr>\n",
       "    <tr>\n",
       "      <th>433</th>\n",
       "      <td>2016-12-22</td>\n",
       "      <td>-465.00</td>\n",
       "      <td>5731425</td>\n",
       "    </tr>\n",
       "    <tr>\n",
       "      <th>454</th>\n",
       "      <td>2016-12-23</td>\n",
       "      <td>-905.00</td>\n",
       "      <td>21779415</td>\n",
       "    </tr>\n",
       "    <tr>\n",
       "      <th>475</th>\n",
       "      <td>2016-12-24</td>\n",
       "      <td>-562.00</td>\n",
       "      <td>8023995</td>\n",
       "    </tr>\n",
       "    <tr>\n",
       "      <th>516</th>\n",
       "      <td>2016-12-26</td>\n",
       "      <td>-55.00</td>\n",
       "      <td>2292570</td>\n",
       "    </tr>\n",
       "    <tr>\n",
       "      <th>537</th>\n",
       "      <td>2016-12-27</td>\n",
       "      <td>-2812.00</td>\n",
       "      <td>8023995</td>\n",
       "    </tr>\n",
       "    <tr>\n",
       "      <th>557</th>\n",
       "      <td>2016-12-28</td>\n",
       "      <td>-1950.00</td>\n",
       "      <td>19486845</td>\n",
       "    </tr>\n",
       "    <tr>\n",
       "      <th>578</th>\n",
       "      <td>2016-12-29</td>\n",
       "      <td>-1061.00</td>\n",
       "      <td>12609135</td>\n",
       "    </tr>\n",
       "    <tr>\n",
       "      <th>599</th>\n",
       "      <td>2016-12-30</td>\n",
       "      <td>-858.00</td>\n",
       "      <td>11462850</td>\n",
       "    </tr>\n",
       "    <tr>\n",
       "      <th>617</th>\n",
       "      <td>2016-12-31</td>\n",
       "      <td>-1100.00</td>\n",
       "      <td>3438855</td>\n",
       "    </tr>\n",
       "  </tbody>\n",
       "</table>\n",
       "<p>626 rows × 3 columns</p>\n",
       "</div>"
      ],
      "text/plain": [
       "    contb_receipt_dt  contb_receipt_amt    file_num\n",
       "119       2015-04-07           18900.00     7168364\n",
       "180       2015-04-10            2700.00     1024052\n",
       "201       2015-04-11               6.00     2048104\n",
       "221       2015-04-12         1415749.21  2681992188\n",
       "242       2015-04-13         1040668.58  1343613218\n",
       "262       2015-04-14          870548.58   744485804\n",
       "283       2015-04-15          593761.32   479313330\n",
       "304       2015-04-16          559080.85   426005632\n",
       "325       2015-04-17          525572.93   429077788\n",
       "346       2015-04-18          269657.66   197642036\n",
       "366       2015-04-19          220995.64   217099024\n",
       "387       2015-04-20          577046.17   438294256\n",
       "407       2015-04-21          555593.80   429077788\n",
       "428       2015-04-22          601202.26   421909424\n",
       "449       2015-04-23          603954.91   557084288\n",
       "470       2015-04-24          813894.25   599070420\n",
       "491       2015-04-25          362152.17   261133260\n",
       "511       2015-04-26          359896.00   281614300\n",
       "532       2015-04-27         1092114.99   730377052\n",
       "552       2015-04-28          832054.41   470039868\n",
       "573       2015-04-29          777976.56   519194364\n",
       "594       2015-04-30          852594.66   623704662\n",
       "12        2015-05-01          729874.16   628995904\n",
       "32        2015-05-02          183611.00   133126760\n",
       "52        2015-05-03          209421.48   273421884\n",
       "71        2015-05-04          466640.12   344138466\n",
       "91        2015-05-05          744091.94   542747560\n",
       "111       2015-05-06          660524.39   507929792\n",
       "132       2015-05-07          539535.41   379980286\n",
       "152       2015-05-08          541593.16   403533482\n",
       "..               ...                ...         ...\n",
       "568       2016-11-28          -21280.02   198420600\n",
       "589       2016-11-29          -20636.00   240719850\n",
       "609       2016-11-30           -5115.00    85971375\n",
       "4         2016-12-01           -8348.00    75654810\n",
       "24        2016-12-02           -9068.84    87117660\n",
       "44        2016-12-03           -7520.00    58460535\n",
       "83        2016-12-05            -194.53    10316565\n",
       "103       2016-12-06           -2134.96    14901705\n",
       "124       2016-12-07           -8166.00    51582825\n",
       "144       2016-12-08            -678.00    18340560\n",
       "164       2016-12-09           -6956.00    73362240\n",
       "185       2016-12-10           -3698.00    42412545\n",
       "226       2016-12-12            -850.00     4585140\n",
       "247       2016-12-13            -167.00    18340560\n",
       "267       2016-12-14           -9448.00   146724480\n",
       "288       2016-12-15            -802.00    22925700\n",
       "309       2016-12-16          -22530.68   105458220\n",
       "330       2016-12-17           -2510.00    13755420\n",
       "371       2016-12-19            -956.91    14901705\n",
       "392       2016-12-20           -1705.00    16047990\n",
       "412       2016-12-21           -4229.00    67630815\n",
       "433       2016-12-22            -465.00     5731425\n",
       "454       2016-12-23            -905.00    21779415\n",
       "475       2016-12-24            -562.00     8023995\n",
       "516       2016-12-26             -55.00     2292570\n",
       "537       2016-12-27           -2812.00     8023995\n",
       "557       2016-12-28           -1950.00    19486845\n",
       "578       2016-12-29           -1061.00    12609135\n",
       "599       2016-12-30            -858.00    11462850\n",
       "617       2016-12-31           -1100.00     3438855\n",
       "\n",
       "[626 rows x 3 columns]"
      ]
     },
     "execution_count": 27,
     "metadata": {},
     "output_type": "execute_result"
    }
   ],
   "source": [
    "cum_cont = pd.DataFrame(data={\"cum_contr\":np.cumsum(contributions_by_day.contb_receipt_amt),\"date\":contributions_by_day.contb_receipt_dt})\n",
    "cum_cont = cum_cont.sort_values('date', ascending=True).reset_index()\n",
    "cum_cont\n",
    "contributions_by_day"
   ]
  },
  {
   "cell_type": "code",
   "execution_count": 28,
   "metadata": {
    "scrolled": true
   },
   "outputs": [
    {
     "name": "stderr",
     "output_type": "stream",
     "text": [
      "/Users/justinmi/anaconda3/envs/dsd/lib/python3.6/site-packages/seaborn/timeseries.py:183: UserWarning: The tsplot function is deprecated and will be removed or replaced (in a substantially altered version) in a future release.\n",
      "  warnings.warn(msg, UserWarning)\n"
     ]
    },
    {
     "data": {
      "text/plain": [
       "<matplotlib.axes._subplots.AxesSubplot at 0x136dd77f0>"
      ]
     },
     "execution_count": 28,
     "metadata": {},
     "output_type": "execute_result"
    },
    {
     "data": {
      "image/png": "[encoded data removed]",
      "text/plain": [
       "<matplotlib.figure.Figure at 0x198bb6ef0>"
      ]
     },
     "metadata": {},
     "output_type": "display_data"
    }
   ],
   "source": [
    "sns.tsplot(time=cum_cont.date, data=cum_cont.cum_contr)"
   ]
  },
  {
   "cell_type": "code",
   "execution_count": 29,
   "metadata": {},
   "outputs": [
    {
     "data": {
      "text/plain": [
       "0     12597733.26\n",
       "1     23559659.29\n",
       "2     23797046.25\n",
       "3     34359696.13\n",
       "4     35063470.95\n",
       "5     48268431.20\n",
       "6     57770931.66\n",
       "7     59998178.96\n",
       "8     82491507.91\n",
       "9     85364455.07\n",
       "10    39080234.84\n",
       "11    13111590.79\n",
       "Name: contb_receipt_amt, dtype: float64"
      ]
     },
     "execution_count": 29,
     "metadata": {},
     "output_type": "execute_result"
    }
   ],
   "source": [
    "group_by_month = sorted_by_date.groupby(['contb_receipt_dt']).sum().reset_index()\n",
    "group_by_month.contb_receipt_dt = group_by_month.contb_receipt_dt.apply(lambda date: dt.datetime.strptime(date, '%d-%b-%y').month)\n",
    "group_by_month = group_by_month.groupby(['contb_receipt_dt']).sum().reset_index()\n",
    "group_by_month.contb_receipt_amt"
   ]
  },
  {
   "cell_type": "code",
   "execution_count": 30,
   "metadata": {
    "scrolled": true
   },
   "outputs": [
    {
     "data": {
      "text/plain": [
       "<matplotlib.axes._subplots.AxesSubplot at 0x142778048>"
      ]
     },
     "execution_count": 30,
     "metadata": {},
     "output_type": "execute_result"
    },
    {
     "data": {
      "image/png": "[encoded data removed]",
      "text/plain": [
       "<matplotlib.figure.Figure at 0x122931828>"
      ]
     },
     "metadata": {},
     "output_type": "display_data"
    }
   ],
   "source": [
    "sns.barplot(x=\"contb_receipt_dt\", y=\"contb_receipt_amt\", data=group_by_month)"
   ]
  },
  {
   "cell_type": "code",
   "execution_count": null,
   "metadata": {
    "collapsed": true
   },
   "outputs": [],
   "source": []
  }
 ],
 "metadata": {
  "kernelspec": {
   "display_name": "Python 3",
   "language": "python",
   "name": "python3"
  },
  "language_info": {
   "codemirror_mode": {
    "name": "ipython",
    "version": 3
   },
   "file_extension": ".py",
   "mimetype": "text/x-python",
   "name": "python",
   "nbconvert_exporter": "python",
   "pygments_lexer": "ipython3",
   "version": "3.6.2"
  }
 },
 "nbformat": 4,
 "nbformat_minor": 2
}
